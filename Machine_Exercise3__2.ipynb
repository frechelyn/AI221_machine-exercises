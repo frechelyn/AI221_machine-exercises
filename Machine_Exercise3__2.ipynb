{
  "nbformat": 4,
  "nbformat_minor": 0,
  "metadata": {
    "colab": {
      "provenance": []
    },
    "kernelspec": {
      "name": "python3",
      "display_name": "Python 3"
    },
    "language_info": {
      "name": "python"
    }
  },
  "cells": [
    {
      "cell_type": "markdown",
      "source": [
        "**A regression on the quality of the wine**"
      ],
      "metadata": {
        "id": "CJxxak7PSF1g"
      }
    },
    {
      "cell_type": "code",
      "execution_count": null,
      "metadata": {
        "colab": {
          "base_uri": "https://localhost:8080/"
        },
        "id": "LbyQ4qY9nATh",
        "outputId": "7a8314fa-cd23-4528-db94-9b130db88572"
      },
      "outputs": [
        {
          "output_type": "stream",
          "name": "stdout",
          "text": [
            "      fixed_acidity  volatile_acidity  citric_acid  residual_sugar  chlorides  \\\n",
            "0               7.4              0.70         0.00             1.9      0.076   \n",
            "1               7.8              0.88         0.00             2.6      0.098   \n",
            "2               7.8              0.76         0.04             2.3      0.092   \n",
            "3              11.2              0.28         0.56             1.9      0.075   \n",
            "4               7.4              0.70         0.00             1.9      0.076   \n",
            "...             ...               ...          ...             ...        ...   \n",
            "6492            6.2              0.21         0.29             1.6      0.039   \n",
            "6493            6.6              0.32         0.36             8.0      0.047   \n",
            "6494            6.5              0.24         0.19             1.2      0.041   \n",
            "6495            5.5              0.29         0.30             1.1      0.022   \n",
            "6496            6.0              0.21         0.38             0.8      0.020   \n",
            "\n",
            "      free_sulfur_dioxide  total_sulfur_dioxide  density    pH  sulphates  \\\n",
            "0                    11.0                  34.0  0.99780  3.51       0.56   \n",
            "1                    25.0                  67.0  0.99680  3.20       0.68   \n",
            "2                    15.0                  54.0  0.99700  3.26       0.65   \n",
            "3                    17.0                  60.0  0.99800  3.16       0.58   \n",
            "4                    11.0                  34.0  0.99780  3.51       0.56   \n",
            "...                   ...                   ...      ...   ...        ...   \n",
            "6492                 24.0                  92.0  0.99114  3.27       0.50   \n",
            "6493                 57.0                 168.0  0.99490  3.15       0.46   \n",
            "6494                 30.0                 111.0  0.99254  2.99       0.46   \n",
            "6495                 20.0                 110.0  0.98869  3.34       0.38   \n",
            "6496                 22.0                  98.0  0.98941  3.26       0.32   \n",
            "\n",
            "      alcohol  quality  color  \n",
            "0         9.4        5    red  \n",
            "1         9.8        5    red  \n",
            "2         9.8        5    red  \n",
            "3         9.8        6    red  \n",
            "4         9.4        5    red  \n",
            "...       ...      ...    ...  \n",
            "6492     11.2        6  white  \n",
            "6493      9.6        5  white  \n",
            "6494      9.4        6  white  \n",
            "6495     12.8        7  white  \n",
            "6496     11.8        6  white  \n",
            "\n",
            "[6497 rows x 13 columns]\n"
          ]
        }
      ],
      "source": [
        "import pandas as pd\n",
        "import numpy as np\n",
        "from sklearn.model_selection import train_test_split, GridSearchCV\n",
        "from sklearn.svm import SVR\n",
        "from sklearn.linear_model import LinearRegression, Ridge\n",
        "from sklearn.ensemble import RandomForestRegressor\n",
        "from sklearn.metrics import mean_squared_error, r2_score, mean_absolute_error\n",
        "from sklearn.preprocessing import StandardScaler\n",
        "from sklearn.pipeline import Pipeline\n",
        "\n",
        "# Load the dataset\n",
        "data_url = 'https://archive.ics.uci.edu/static/public/186/data.csv'\n",
        "df = pd.read_csv(data_url)\n",
        "\n",
        "print(df)\n"
      ]
    },
    {
      "cell_type": "code",
      "source": [
        "# Encode the 'color' column to numerical values\n",
        "df['color'] = df['color'].map({'red': 0, 'white': 1})"
      ],
      "metadata": {
        "id": "hyTGCUTynEwE"
      },
      "execution_count": null,
      "outputs": []
    },
    {
      "cell_type": "code",
      "source": [
        "print(df)"
      ],
      "metadata": {
        "colab": {
          "base_uri": "https://localhost:8080/"
        },
        "id": "3HbHNGEWnH_j",
        "outputId": "d6c1c4f8-f363-4863-ce62-8ce715eca15a"
      },
      "execution_count": null,
      "outputs": [
        {
          "output_type": "stream",
          "name": "stdout",
          "text": [
            "      fixed_acidity  volatile_acidity  citric_acid  residual_sugar  chlorides  \\\n",
            "0               7.4              0.70         0.00             1.9      0.076   \n",
            "1               7.8              0.88         0.00             2.6      0.098   \n",
            "2               7.8              0.76         0.04             2.3      0.092   \n",
            "3              11.2              0.28         0.56             1.9      0.075   \n",
            "4               7.4              0.70         0.00             1.9      0.076   \n",
            "...             ...               ...          ...             ...        ...   \n",
            "6492            6.2              0.21         0.29             1.6      0.039   \n",
            "6493            6.6              0.32         0.36             8.0      0.047   \n",
            "6494            6.5              0.24         0.19             1.2      0.041   \n",
            "6495            5.5              0.29         0.30             1.1      0.022   \n",
            "6496            6.0              0.21         0.38             0.8      0.020   \n",
            "\n",
            "      free_sulfur_dioxide  total_sulfur_dioxide  density    pH  sulphates  \\\n",
            "0                    11.0                  34.0  0.99780  3.51       0.56   \n",
            "1                    25.0                  67.0  0.99680  3.20       0.68   \n",
            "2                    15.0                  54.0  0.99700  3.26       0.65   \n",
            "3                    17.0                  60.0  0.99800  3.16       0.58   \n",
            "4                    11.0                  34.0  0.99780  3.51       0.56   \n",
            "...                   ...                   ...      ...   ...        ...   \n",
            "6492                 24.0                  92.0  0.99114  3.27       0.50   \n",
            "6493                 57.0                 168.0  0.99490  3.15       0.46   \n",
            "6494                 30.0                 111.0  0.99254  2.99       0.46   \n",
            "6495                 20.0                 110.0  0.98869  3.34       0.38   \n",
            "6496                 22.0                  98.0  0.98941  3.26       0.32   \n",
            "\n",
            "      alcohol  quality  color  \n",
            "0         9.4        5      0  \n",
            "1         9.8        5      0  \n",
            "2         9.8        5      0  \n",
            "3         9.8        6      0  \n",
            "4         9.4        5      0  \n",
            "...       ...      ...    ...  \n",
            "6492     11.2        6      1  \n",
            "6493      9.6        5      1  \n",
            "6494      9.4        6      1  \n",
            "6495     12.8        7      1  \n",
            "6496     11.8        6      1  \n",
            "\n",
            "[6497 rows x 13 columns]\n"
          ]
        }
      ]
    },
    {
      "cell_type": "code",
      "source": [
        "# Define features and target\n",
        "X = df.drop('quality', axis=1)\n",
        "y = df['quality']"
      ],
      "metadata": {
        "id": "A4esD0-JnKxL"
      },
      "execution_count": null,
      "outputs": []
    },
    {
      "cell_type": "code",
      "source": [
        "print(X)"
      ],
      "metadata": {
        "colab": {
          "base_uri": "https://localhost:8080/"
        },
        "id": "8Q_wnPOcnNS8",
        "outputId": "01d4aeba-b598-4c55-aece-3350fe66d084"
      },
      "execution_count": null,
      "outputs": [
        {
          "output_type": "stream",
          "name": "stdout",
          "text": [
            "      fixed_acidity  volatile_acidity  citric_acid  residual_sugar  chlorides  \\\n",
            "0               7.4              0.70         0.00             1.9      0.076   \n",
            "1               7.8              0.88         0.00             2.6      0.098   \n",
            "2               7.8              0.76         0.04             2.3      0.092   \n",
            "3              11.2              0.28         0.56             1.9      0.075   \n",
            "4               7.4              0.70         0.00             1.9      0.076   \n",
            "...             ...               ...          ...             ...        ...   \n",
            "6492            6.2              0.21         0.29             1.6      0.039   \n",
            "6493            6.6              0.32         0.36             8.0      0.047   \n",
            "6494            6.5              0.24         0.19             1.2      0.041   \n",
            "6495            5.5              0.29         0.30             1.1      0.022   \n",
            "6496            6.0              0.21         0.38             0.8      0.020   \n",
            "\n",
            "      free_sulfur_dioxide  total_sulfur_dioxide  density    pH  sulphates  \\\n",
            "0                    11.0                  34.0  0.99780  3.51       0.56   \n",
            "1                    25.0                  67.0  0.99680  3.20       0.68   \n",
            "2                    15.0                  54.0  0.99700  3.26       0.65   \n",
            "3                    17.0                  60.0  0.99800  3.16       0.58   \n",
            "4                    11.0                  34.0  0.99780  3.51       0.56   \n",
            "...                   ...                   ...      ...   ...        ...   \n",
            "6492                 24.0                  92.0  0.99114  3.27       0.50   \n",
            "6493                 57.0                 168.0  0.99490  3.15       0.46   \n",
            "6494                 30.0                 111.0  0.99254  2.99       0.46   \n",
            "6495                 20.0                 110.0  0.98869  3.34       0.38   \n",
            "6496                 22.0                  98.0  0.98941  3.26       0.32   \n",
            "\n",
            "      alcohol  color  \n",
            "0         9.4      0  \n",
            "1         9.8      0  \n",
            "2         9.8      0  \n",
            "3         9.8      0  \n",
            "4         9.4      0  \n",
            "...       ...    ...  \n",
            "6492     11.2      1  \n",
            "6493      9.6      1  \n",
            "6494      9.4      1  \n",
            "6495     12.8      1  \n",
            "6496     11.8      1  \n",
            "\n",
            "[6497 rows x 12 columns]\n"
          ]
        }
      ]
    },
    {
      "cell_type": "code",
      "source": [
        "print(y)"
      ],
      "metadata": {
        "colab": {
          "base_uri": "https://localhost:8080/"
        },
        "id": "A-KiszkBnaUE",
        "outputId": "8b267b57-2578-4f03-c1fb-0386c870daaa"
      },
      "execution_count": null,
      "outputs": [
        {
          "output_type": "stream",
          "name": "stdout",
          "text": [
            "0       5\n",
            "1       5\n",
            "2       5\n",
            "3       6\n",
            "4       5\n",
            "       ..\n",
            "6492    6\n",
            "6493    5\n",
            "6494    6\n",
            "6495    7\n",
            "6496    6\n",
            "Name: quality, Length: 6497, dtype: int64\n"
          ]
        }
      ]
    },
    {
      "cell_type": "code",
      "source": [
        "# Split the data into training and testing sets\n",
        "X_train, X_test, y_train, y_test = train_test_split(X, y, test_size=0.3, random_state=42)\n",
        "\n",
        "# Create pipelines for SVR, Linear Regression, Ridge, and Random Forest\n",
        "pipelines = {\n",
        "    'svr': Pipeline([\n",
        "        ('scaler', StandardScaler()),\n",
        "        ('svr', SVR())\n",
        "    ]),\n",
        "    'linear_regression': Pipeline([\n",
        "        ('scaler', StandardScaler()),\n",
        "        ('linear_regression', LinearRegression())\n",
        "    ]),\n",
        "    'ridge': Pipeline([\n",
        "        ('scaler', StandardScaler()),\n",
        "        ('ridge', Ridge())\n",
        "    ]),\n",
        "    'random_forest': Pipeline([\n",
        "        ('scaler', StandardScaler()),\n",
        "        ('random_forest', RandomForestRegressor(random_state=42))\n",
        "    ])\n",
        "}\n",
        "\n",
        "# Define the parameter grid for hyper-parameter tuning\n",
        "param_grids = {\n",
        "    'svr': {\n",
        "        'svr__C': [0.1, 1, 10, 100],\n",
        "        'svr__gamma': [1, 0.1, 0.01, 0.001],\n",
        "        'svr__kernel': ['rbf', 'linear']\n",
        "    },\n",
        "    'linear_regression': {},\n",
        "    'ridge': {\n",
        "        'ridge__alpha': [0.1, 1.0, 10.0, 100.0]\n",
        "    },\n",
        "    'random_forest': {\n",
        "        'random_forest__n_estimators': [100, 200, 300],\n",
        "        'random_forest__max_depth': [None, 10, 20, 30],\n",
        "        'random_forest__min_samples_split': [2, 5, 10],\n",
        "        'random_forest__min_samples_leaf': [1, 2, 4]\n",
        "    }\n",
        "}"
      ],
      "metadata": {
        "id": "Iz-0B9NincQk"
      },
      "execution_count": null,
      "outputs": []
    },
    {
      "cell_type": "code",
      "source": [
        "# Print the data after StandardScaler\n",
        "scaler = StandardScaler()\n",
        "X_train_scaled = scaler.fit_transform(X_train)\n",
        "X_test_scaled = scaler.transform(X_test)\n",
        "\n",
        "print(\"\\nScaled Training Data:\")\n",
        "print(X_train_scaled)\n",
        "\n",
        "print(\"\\nScaled Testing Data:\")\n",
        "print(X_test_scaled)"
      ],
      "metadata": {
        "colab": {
          "base_uri": "https://localhost:8080/"
        },
        "id": "DTfMIcktnxmr",
        "outputId": "34975140-7437-425d-8624-4da6c49898c9"
      },
      "execution_count": null,
      "outputs": [
        {
          "output_type": "stream",
          "name": "stdout",
          "text": [
            "\n",
            "Scaled Training Data:\n",
            "[[ 2.09749415e+00  9.44541345e-01 -6.19125220e-01 ... -6.07582024e-01\n",
            "  -9.09141702e-01  5.63889186e-01]\n",
            " [ 3.88772797e-01 -3.53027559e-01  2.06940277e-01 ... -1.99847169e-01\n",
            "  -7.41998353e-01  5.63889186e-01]\n",
            " [ 3.41786974e+00  8.51857852e-01  5.51134235e-01 ...  8.19489967e-01\n",
            "  -3.79854432e-01 -1.77339808e+00]\n",
            " ...\n",
            " [-6.20926184e-01  2.03073400e-01 -8.25641595e-01 ... -6.75537833e-01\n",
            "  -8.25570027e-01  5.63889186e-01]\n",
            " [-5.43257032e-01 -4.76605550e-01  1.23952215e+00 ... -4.03714597e-01\n",
            "  -8.25570027e-01  5.63889186e-01]\n",
            " [ 4.27035147e-04  1.74779829e+00 -1.78938468e+00 ...  7.19760670e-02\n",
            "  -8.25570027e-01 -1.77339808e+00]]\n",
            "\n",
            "Scaled Testing Data:\n",
            "[[-0.15491127 -1.03270651  2.89165314 ... -1.01531688  1.43086519\n",
            "   0.56388919]\n",
            " [ 0.3887728   1.87137628 -0.7568028  ... -0.53962622 -0.49128333\n",
            "  -1.77339808]\n",
            " [-0.31024957  0.32665139  0.13810149 ... -0.60758202  1.26372184\n",
            "   0.56388919]\n",
            " ...\n",
            " [-0.62092618 -0.16766057 -0.27493126 ... -1.01531688  1.84872356\n",
            "   0.56388919]\n",
            " [-0.93160279 -0.78555053  0.13810149 ... -0.74349364  0.76229179\n",
            "   0.56388919]\n",
            " [-0.62092618 -0.66197254  0.34461786 ... -0.26780298 -0.99271338\n",
            "   0.56388919]]\n"
          ]
        }
      ]
    },
    {
      "cell_type": "code",
      "source": [
        "# Perform GridSearchCV to find the best hyper-parameters for each model\n",
        "best_models = {}\n",
        "for model_name in pipelines:\n",
        "    grid_search = GridSearchCV(pipelines[model_name], param_grids[model_name], cv=5, scoring='neg_mean_squared_error', n_jobs=-1)\n",
        "    grid_search.fit(X_train, y_train)\n",
        "    best_models[model_name] = grid_search.best_estimator_\n",
        "    print(f'Best parameters for {model_name}: {grid_search.best_params_}')\n",
        "\n",
        "    # Print all hyper-parameter tuning results\n",
        "    print(f'All hyper-parameter tuning results for {model_name}:')\n",
        "    for mean_score, params in zip(grid_search.cv_results_['mean_test_score'], grid_search.cv_results_['params']):\n",
        "        print(f'Mean Test Score: {mean_score}, Parameters: {params}')"
      ],
      "metadata": {
        "colab": {
          "base_uri": "https://localhost:8080/"
        },
        "id": "xQUAgWnjn2Hb",
        "outputId": "c7216aee-768f-4bb8-d2cb-df6517c31e5c"
      },
      "execution_count": null,
      "outputs": [
        {
          "output_type": "stream",
          "name": "stdout",
          "text": [
            "Best parameters for svr: {'svr__C': 1, 'svr__gamma': 1, 'svr__kernel': 'rbf'}\n",
            "All hyper-parameter tuning results for svr:\n",
            "Mean Test Score: -0.6041562885513352, Parameters: {'svr__C': 0.1, 'svr__gamma': 1, 'svr__kernel': 'rbf'}\n",
            "Mean Test Score: -0.5484679762249433, Parameters: {'svr__C': 0.1, 'svr__gamma': 1, 'svr__kernel': 'linear'}\n",
            "Mean Test Score: -0.4989642162671898, Parameters: {'svr__C': 0.1, 'svr__gamma': 0.1, 'svr__kernel': 'rbf'}\n",
            "Mean Test Score: -0.5484679762249433, Parameters: {'svr__C': 0.1, 'svr__gamma': 0.1, 'svr__kernel': 'linear'}\n",
            "Mean Test Score: -0.5434540140174041, Parameters: {'svr__C': 0.1, 'svr__gamma': 0.01, 'svr__kernel': 'rbf'}\n",
            "Mean Test Score: -0.5484679762249433, Parameters: {'svr__C': 0.1, 'svr__gamma': 0.01, 'svr__kernel': 'linear'}\n",
            "Mean Test Score: -0.6381595048226223, Parameters: {'svr__C': 0.1, 'svr__gamma': 0.001, 'svr__kernel': 'rbf'}\n",
            "Mean Test Score: -0.5484679762249433, Parameters: {'svr__C': 0.1, 'svr__gamma': 0.001, 'svr__kernel': 'linear'}\n",
            "Mean Test Score: -0.47684187207485496, Parameters: {'svr__C': 1, 'svr__gamma': 1, 'svr__kernel': 'rbf'}\n",
            "Mean Test Score: -0.548749489324001, Parameters: {'svr__C': 1, 'svr__gamma': 1, 'svr__kernel': 'linear'}\n",
            "Mean Test Score: -0.47777235485492414, Parameters: {'svr__C': 1, 'svr__gamma': 0.1, 'svr__kernel': 'rbf'}\n",
            "Mean Test Score: -0.548749489324001, Parameters: {'svr__C': 1, 'svr__gamma': 0.1, 'svr__kernel': 'linear'}\n",
            "Mean Test Score: -0.5145561918208001, Parameters: {'svr__C': 1, 'svr__gamma': 0.01, 'svr__kernel': 'rbf'}\n",
            "Mean Test Score: -0.548749489324001, Parameters: {'svr__C': 1, 'svr__gamma': 0.01, 'svr__kernel': 'linear'}\n",
            "Mean Test Score: -0.5505710988418757, Parameters: {'svr__C': 1, 'svr__gamma': 0.001, 'svr__kernel': 'rbf'}\n",
            "Mean Test Score: -0.548749489324001, Parameters: {'svr__C': 1, 'svr__gamma': 0.001, 'svr__kernel': 'linear'}\n",
            "Mean Test Score: -0.4887538619991087, Parameters: {'svr__C': 10, 'svr__gamma': 1, 'svr__kernel': 'rbf'}\n",
            "Mean Test Score: -0.5488050688353726, Parameters: {'svr__C': 10, 'svr__gamma': 1, 'svr__kernel': 'linear'}\n",
            "Mean Test Score: -0.5049741397077869, Parameters: {'svr__C': 10, 'svr__gamma': 0.1, 'svr__kernel': 'rbf'}\n",
            "Mean Test Score: -0.5488050688353726, Parameters: {'svr__C': 10, 'svr__gamma': 0.1, 'svr__kernel': 'linear'}\n",
            "Mean Test Score: -0.49792119823681436, Parameters: {'svr__C': 10, 'svr__gamma': 0.01, 'svr__kernel': 'rbf'}\n",
            "Mean Test Score: -0.5488050688353726, Parameters: {'svr__C': 10, 'svr__gamma': 0.01, 'svr__kernel': 'linear'}\n",
            "Mean Test Score: -0.5372752467632285, Parameters: {'svr__C': 10, 'svr__gamma': 0.001, 'svr__kernel': 'rbf'}\n",
            "Mean Test Score: -0.5488050688353726, Parameters: {'svr__C': 10, 'svr__gamma': 0.001, 'svr__kernel': 'linear'}\n",
            "Mean Test Score: -0.5003546126170161, Parameters: {'svr__C': 100, 'svr__gamma': 1, 'svr__kernel': 'rbf'}\n",
            "Mean Test Score: -0.5487616636077736, Parameters: {'svr__C': 100, 'svr__gamma': 1, 'svr__kernel': 'linear'}\n",
            "Mean Test Score: -0.6473711642744939, Parameters: {'svr__C': 100, 'svr__gamma': 0.1, 'svr__kernel': 'rbf'}\n",
            "Mean Test Score: -0.5487616636077736, Parameters: {'svr__C': 100, 'svr__gamma': 0.1, 'svr__kernel': 'linear'}\n",
            "Mean Test Score: -0.49605734127174567, Parameters: {'svr__C': 100, 'svr__gamma': 0.01, 'svr__kernel': 'rbf'}\n",
            "Mean Test Score: -0.5487616636077736, Parameters: {'svr__C': 100, 'svr__gamma': 0.01, 'svr__kernel': 'linear'}\n",
            "Mean Test Score: -0.5201620892978822, Parameters: {'svr__C': 100, 'svr__gamma': 0.001, 'svr__kernel': 'rbf'}\n",
            "Mean Test Score: -0.5487616636077736, Parameters: {'svr__C': 100, 'svr__gamma': 0.001, 'svr__kernel': 'linear'}\n",
            "Best parameters for linear_regression: {}\n",
            "All hyper-parameter tuning results for linear_regression:\n",
            "Mean Test Score: -0.5441666052993653, Parameters: {}\n",
            "Best parameters for ridge: {'ridge__alpha': 10.0}\n",
            "All hyper-parameter tuning results for ridge:\n",
            "Mean Test Score: -0.544163948925336, Parameters: {'ridge__alpha': 0.1}\n",
            "Mean Test Score: -0.5441409868678516, Parameters: {'ridge__alpha': 1.0}\n",
            "Mean Test Score: -0.543988353642398, Parameters: {'ridge__alpha': 10.0}\n",
            "Mean Test Score: -0.5446637391596532, Parameters: {'ridge__alpha': 100.0}\n",
            "Best parameters for random_forest: {'random_forest__max_depth': 30, 'random_forest__min_samples_leaf': 1, 'random_forest__min_samples_split': 2, 'random_forest__n_estimators': 300}\n",
            "All hyper-parameter tuning results for random_forest:\n",
            "Mean Test Score: -0.40432135804349667, Parameters: {'random_forest__max_depth': None, 'random_forest__min_samples_leaf': 1, 'random_forest__min_samples_split': 2, 'random_forest__n_estimators': 100}\n",
            "Mean Test Score: -0.4014479041272259, Parameters: {'random_forest__max_depth': None, 'random_forest__min_samples_leaf': 1, 'random_forest__min_samples_split': 2, 'random_forest__n_estimators': 200}\n",
            "Mean Test Score: -0.4004202856121998, Parameters: {'random_forest__max_depth': None, 'random_forest__min_samples_leaf': 1, 'random_forest__min_samples_split': 2, 'random_forest__n_estimators': 300}\n",
            "Mean Test Score: -0.4081868570408546, Parameters: {'random_forest__max_depth': None, 'random_forest__min_samples_leaf': 1, 'random_forest__min_samples_split': 5, 'random_forest__n_estimators': 100}\n",
            "Mean Test Score: -0.4056704406361982, Parameters: {'random_forest__max_depth': None, 'random_forest__min_samples_leaf': 1, 'random_forest__min_samples_split': 5, 'random_forest__n_estimators': 200}\n",
            "Mean Test Score: -0.40449671218110794, Parameters: {'random_forest__max_depth': None, 'random_forest__min_samples_leaf': 1, 'random_forest__min_samples_split': 5, 'random_forest__n_estimators': 300}\n",
            "Mean Test Score: -0.41670221698704457, Parameters: {'random_forest__max_depth': None, 'random_forest__min_samples_leaf': 1, 'random_forest__min_samples_split': 10, 'random_forest__n_estimators': 100}\n",
            "Mean Test Score: -0.41479433955183626, Parameters: {'random_forest__max_depth': None, 'random_forest__min_samples_leaf': 1, 'random_forest__min_samples_split': 10, 'random_forest__n_estimators': 200}\n",
            "Mean Test Score: -0.41376039057777414, Parameters: {'random_forest__max_depth': None, 'random_forest__min_samples_leaf': 1, 'random_forest__min_samples_split': 10, 'random_forest__n_estimators': 300}\n",
            "Mean Test Score: -0.4078159775150813, Parameters: {'random_forest__max_depth': None, 'random_forest__min_samples_leaf': 2, 'random_forest__min_samples_split': 2, 'random_forest__n_estimators': 100}\n",
            "Mean Test Score: -0.40552813246203534, Parameters: {'random_forest__max_depth': None, 'random_forest__min_samples_leaf': 2, 'random_forest__min_samples_split': 2, 'random_forest__n_estimators': 200}\n",
            "Mean Test Score: -0.4045775299849015, Parameters: {'random_forest__max_depth': None, 'random_forest__min_samples_leaf': 2, 'random_forest__min_samples_split': 2, 'random_forest__n_estimators': 300}\n",
            "Mean Test Score: -0.41010371672070534, Parameters: {'random_forest__max_depth': None, 'random_forest__min_samples_leaf': 2, 'random_forest__min_samples_split': 5, 'random_forest__n_estimators': 100}\n",
            "Mean Test Score: -0.407627782151246, Parameters: {'random_forest__max_depth': None, 'random_forest__min_samples_leaf': 2, 'random_forest__min_samples_split': 5, 'random_forest__n_estimators': 200}\n",
            "Mean Test Score: -0.406536474841539, Parameters: {'random_forest__max_depth': None, 'random_forest__min_samples_leaf': 2, 'random_forest__min_samples_split': 5, 'random_forest__n_estimators': 300}\n",
            "Mean Test Score: -0.4191016185151595, Parameters: {'random_forest__max_depth': None, 'random_forest__min_samples_leaf': 2, 'random_forest__min_samples_split': 10, 'random_forest__n_estimators': 100}\n",
            "Mean Test Score: -0.4170229966229063, Parameters: {'random_forest__max_depth': None, 'random_forest__min_samples_leaf': 2, 'random_forest__min_samples_split': 10, 'random_forest__n_estimators': 200}\n",
            "Mean Test Score: -0.41619908431516706, Parameters: {'random_forest__max_depth': None, 'random_forest__min_samples_leaf': 2, 'random_forest__min_samples_split': 10, 'random_forest__n_estimators': 300}\n",
            "Mean Test Score: -0.42080651284851145, Parameters: {'random_forest__max_depth': None, 'random_forest__min_samples_leaf': 4, 'random_forest__min_samples_split': 2, 'random_forest__n_estimators': 100}\n",
            "Mean Test Score: -0.41831784485406515, Parameters: {'random_forest__max_depth': None, 'random_forest__min_samples_leaf': 4, 'random_forest__min_samples_split': 2, 'random_forest__n_estimators': 200}\n",
            "Mean Test Score: -0.4178534561107236, Parameters: {'random_forest__max_depth': None, 'random_forest__min_samples_leaf': 4, 'random_forest__min_samples_split': 2, 'random_forest__n_estimators': 300}\n",
            "Mean Test Score: -0.42080651284851145, Parameters: {'random_forest__max_depth': None, 'random_forest__min_samples_leaf': 4, 'random_forest__min_samples_split': 5, 'random_forest__n_estimators': 100}\n",
            "Mean Test Score: -0.41831784485406515, Parameters: {'random_forest__max_depth': None, 'random_forest__min_samples_leaf': 4, 'random_forest__min_samples_split': 5, 'random_forest__n_estimators': 200}\n",
            "Mean Test Score: -0.4178534561107236, Parameters: {'random_forest__max_depth': None, 'random_forest__min_samples_leaf': 4, 'random_forest__min_samples_split': 5, 'random_forest__n_estimators': 300}\n",
            "Mean Test Score: -0.42385384302519535, Parameters: {'random_forest__max_depth': None, 'random_forest__min_samples_leaf': 4, 'random_forest__min_samples_split': 10, 'random_forest__n_estimators': 100}\n",
            "Mean Test Score: -0.4216214118895577, Parameters: {'random_forest__max_depth': None, 'random_forest__min_samples_leaf': 4, 'random_forest__min_samples_split': 10, 'random_forest__n_estimators': 200}\n",
            "Mean Test Score: -0.42120388046684487, Parameters: {'random_forest__max_depth': None, 'random_forest__min_samples_leaf': 4, 'random_forest__min_samples_split': 10, 'random_forest__n_estimators': 300}\n",
            "Mean Test Score: -0.43710827386447837, Parameters: {'random_forest__max_depth': 10, 'random_forest__min_samples_leaf': 1, 'random_forest__min_samples_split': 2, 'random_forest__n_estimators': 100}\n",
            "Mean Test Score: -0.4354710433023219, Parameters: {'random_forest__max_depth': 10, 'random_forest__min_samples_leaf': 1, 'random_forest__min_samples_split': 2, 'random_forest__n_estimators': 200}\n",
            "Mean Test Score: -0.4351647355940241, Parameters: {'random_forest__max_depth': 10, 'random_forest__min_samples_leaf': 1, 'random_forest__min_samples_split': 2, 'random_forest__n_estimators': 300}\n",
            "Mean Test Score: -0.4381794670349956, Parameters: {'random_forest__max_depth': 10, 'random_forest__min_samples_leaf': 1, 'random_forest__min_samples_split': 5, 'random_forest__n_estimators': 100}\n",
            "Mean Test Score: -0.43659822456450054, Parameters: {'random_forest__max_depth': 10, 'random_forest__min_samples_leaf': 1, 'random_forest__min_samples_split': 5, 'random_forest__n_estimators': 200}\n",
            "Mean Test Score: -0.43595957405818203, Parameters: {'random_forest__max_depth': 10, 'random_forest__min_samples_leaf': 1, 'random_forest__min_samples_split': 5, 'random_forest__n_estimators': 300}\n",
            "Mean Test Score: -0.44257478954020674, Parameters: {'random_forest__max_depth': 10, 'random_forest__min_samples_leaf': 1, 'random_forest__min_samples_split': 10, 'random_forest__n_estimators': 100}\n",
            "Mean Test Score: -0.44141533546741635, Parameters: {'random_forest__max_depth': 10, 'random_forest__min_samples_leaf': 1, 'random_forest__min_samples_split': 10, 'random_forest__n_estimators': 200}\n",
            "Mean Test Score: -0.4408929644513462, Parameters: {'random_forest__max_depth': 10, 'random_forest__min_samples_leaf': 1, 'random_forest__min_samples_split': 10, 'random_forest__n_estimators': 300}\n",
            "Mean Test Score: -0.4348120474382049, Parameters: {'random_forest__max_depth': 10, 'random_forest__min_samples_leaf': 2, 'random_forest__min_samples_split': 2, 'random_forest__n_estimators': 100}\n",
            "Mean Test Score: -0.4336412342305354, Parameters: {'random_forest__max_depth': 10, 'random_forest__min_samples_leaf': 2, 'random_forest__min_samples_split': 2, 'random_forest__n_estimators': 200}\n",
            "Mean Test Score: -0.433193266962288, Parameters: {'random_forest__max_depth': 10, 'random_forest__min_samples_leaf': 2, 'random_forest__min_samples_split': 2, 'random_forest__n_estimators': 300}\n",
            "Mean Test Score: -0.43592302348869627, Parameters: {'random_forest__max_depth': 10, 'random_forest__min_samples_leaf': 2, 'random_forest__min_samples_split': 5, 'random_forest__n_estimators': 100}\n",
            "Mean Test Score: -0.4340935199708322, Parameters: {'random_forest__max_depth': 10, 'random_forest__min_samples_leaf': 2, 'random_forest__min_samples_split': 5, 'random_forest__n_estimators': 200}\n",
            "Mean Test Score: -0.433666140067907, Parameters: {'random_forest__max_depth': 10, 'random_forest__min_samples_leaf': 2, 'random_forest__min_samples_split': 5, 'random_forest__n_estimators': 300}\n",
            "Mean Test Score: -0.4405880595306108, Parameters: {'random_forest__max_depth': 10, 'random_forest__min_samples_leaf': 2, 'random_forest__min_samples_split': 10, 'random_forest__n_estimators': 100}\n",
            "Mean Test Score: -0.43907656367926434, Parameters: {'random_forest__max_depth': 10, 'random_forest__min_samples_leaf': 2, 'random_forest__min_samples_split': 10, 'random_forest__n_estimators': 200}\n",
            "Mean Test Score: -0.4386977517795774, Parameters: {'random_forest__max_depth': 10, 'random_forest__min_samples_leaf': 2, 'random_forest__min_samples_split': 10, 'random_forest__n_estimators': 300}\n",
            "Mean Test Score: -0.43884789493145837, Parameters: {'random_forest__max_depth': 10, 'random_forest__min_samples_leaf': 4, 'random_forest__min_samples_split': 2, 'random_forest__n_estimators': 100}\n",
            "Mean Test Score: -0.4369602434201133, Parameters: {'random_forest__max_depth': 10, 'random_forest__min_samples_leaf': 4, 'random_forest__min_samples_split': 2, 'random_forest__n_estimators': 200}\n",
            "Mean Test Score: -0.43684055268097993, Parameters: {'random_forest__max_depth': 10, 'random_forest__min_samples_leaf': 4, 'random_forest__min_samples_split': 2, 'random_forest__n_estimators': 300}\n",
            "Mean Test Score: -0.43884789493145837, Parameters: {'random_forest__max_depth': 10, 'random_forest__min_samples_leaf': 4, 'random_forest__min_samples_split': 5, 'random_forest__n_estimators': 100}\n",
            "Mean Test Score: -0.4369602434201133, Parameters: {'random_forest__max_depth': 10, 'random_forest__min_samples_leaf': 4, 'random_forest__min_samples_split': 5, 'random_forest__n_estimators': 200}\n",
            "Mean Test Score: -0.43684055268097993, Parameters: {'random_forest__max_depth': 10, 'random_forest__min_samples_leaf': 4, 'random_forest__min_samples_split': 5, 'random_forest__n_estimators': 300}\n",
            "Mean Test Score: -0.4403140236908887, Parameters: {'random_forest__max_depth': 10, 'random_forest__min_samples_leaf': 4, 'random_forest__min_samples_split': 10, 'random_forest__n_estimators': 100}\n",
            "Mean Test Score: -0.4385509247597989, Parameters: {'random_forest__max_depth': 10, 'random_forest__min_samples_leaf': 4, 'random_forest__min_samples_split': 10, 'random_forest__n_estimators': 200}\n",
            "Mean Test Score: -0.4384565879763529, Parameters: {'random_forest__max_depth': 10, 'random_forest__min_samples_leaf': 4, 'random_forest__min_samples_split': 10, 'random_forest__n_estimators': 300}\n",
            "Mean Test Score: -0.40446978148742907, Parameters: {'random_forest__max_depth': 20, 'random_forest__min_samples_leaf': 1, 'random_forest__min_samples_split': 2, 'random_forest__n_estimators': 100}\n",
            "Mean Test Score: -0.40192193971198986, Parameters: {'random_forest__max_depth': 20, 'random_forest__min_samples_leaf': 1, 'random_forest__min_samples_split': 2, 'random_forest__n_estimators': 200}\n",
            "Mean Test Score: -0.400778456320917, Parameters: {'random_forest__max_depth': 20, 'random_forest__min_samples_leaf': 1, 'random_forest__min_samples_split': 2, 'random_forest__n_estimators': 300}\n",
            "Mean Test Score: -0.40865742028710617, Parameters: {'random_forest__max_depth': 20, 'random_forest__min_samples_leaf': 1, 'random_forest__min_samples_split': 5, 'random_forest__n_estimators': 100}\n",
            "Mean Test Score: -0.4059781360595681, Parameters: {'random_forest__max_depth': 20, 'random_forest__min_samples_leaf': 1, 'random_forest__min_samples_split': 5, 'random_forest__n_estimators': 200}\n",
            "Mean Test Score: -0.40456448877555573, Parameters: {'random_forest__max_depth': 20, 'random_forest__min_samples_leaf': 1, 'random_forest__min_samples_split': 5, 'random_forest__n_estimators': 300}\n",
            "Mean Test Score: -0.4171720090253828, Parameters: {'random_forest__max_depth': 20, 'random_forest__min_samples_leaf': 1, 'random_forest__min_samples_split': 10, 'random_forest__n_estimators': 100}\n",
            "Mean Test Score: -0.41515780424948356, Parameters: {'random_forest__max_depth': 20, 'random_forest__min_samples_leaf': 1, 'random_forest__min_samples_split': 10, 'random_forest__n_estimators': 200}\n",
            "Mean Test Score: -0.41425942913805375, Parameters: {'random_forest__max_depth': 20, 'random_forest__min_samples_leaf': 1, 'random_forest__min_samples_split': 10, 'random_forest__n_estimators': 300}\n",
            "Mean Test Score: -0.4083531390777434, Parameters: {'random_forest__max_depth': 20, 'random_forest__min_samples_leaf': 2, 'random_forest__min_samples_split': 2, 'random_forest__n_estimators': 100}\n",
            "Mean Test Score: -0.4062371142766432, Parameters: {'random_forest__max_depth': 20, 'random_forest__min_samples_leaf': 2, 'random_forest__min_samples_split': 2, 'random_forest__n_estimators': 200}\n",
            "Mean Test Score: -0.40510494935977837, Parameters: {'random_forest__max_depth': 20, 'random_forest__min_samples_leaf': 2, 'random_forest__min_samples_split': 2, 'random_forest__n_estimators': 300}\n",
            "Mean Test Score: -0.4099969102798777, Parameters: {'random_forest__max_depth': 20, 'random_forest__min_samples_leaf': 2, 'random_forest__min_samples_split': 5, 'random_forest__n_estimators': 100}\n",
            "Mean Test Score: -0.4076942524538037, Parameters: {'random_forest__max_depth': 20, 'random_forest__min_samples_leaf': 2, 'random_forest__min_samples_split': 5, 'random_forest__n_estimators': 200}\n",
            "Mean Test Score: -0.406593200835257, Parameters: {'random_forest__max_depth': 20, 'random_forest__min_samples_leaf': 2, 'random_forest__min_samples_split': 5, 'random_forest__n_estimators': 300}\n",
            "Mean Test Score: -0.4194209459852368, Parameters: {'random_forest__max_depth': 20, 'random_forest__min_samples_leaf': 2, 'random_forest__min_samples_split': 10, 'random_forest__n_estimators': 100}\n",
            "Mean Test Score: -0.4173331091596947, Parameters: {'random_forest__max_depth': 20, 'random_forest__min_samples_leaf': 2, 'random_forest__min_samples_split': 10, 'random_forest__n_estimators': 200}\n",
            "Mean Test Score: -0.4164078413902736, Parameters: {'random_forest__max_depth': 20, 'random_forest__min_samples_leaf': 2, 'random_forest__min_samples_split': 10, 'random_forest__n_estimators': 300}\n",
            "Mean Test Score: -0.42098464073692476, Parameters: {'random_forest__max_depth': 20, 'random_forest__min_samples_leaf': 4, 'random_forest__min_samples_split': 2, 'random_forest__n_estimators': 100}\n",
            "Mean Test Score: -0.418465724818312, Parameters: {'random_forest__max_depth': 20, 'random_forest__min_samples_leaf': 4, 'random_forest__min_samples_split': 2, 'random_forest__n_estimators': 200}\n",
            "Mean Test Score: -0.41803029051964324, Parameters: {'random_forest__max_depth': 20, 'random_forest__min_samples_leaf': 4, 'random_forest__min_samples_split': 2, 'random_forest__n_estimators': 300}\n",
            "Mean Test Score: -0.42098464073692476, Parameters: {'random_forest__max_depth': 20, 'random_forest__min_samples_leaf': 4, 'random_forest__min_samples_split': 5, 'random_forest__n_estimators': 100}\n",
            "Mean Test Score: -0.418465724818312, Parameters: {'random_forest__max_depth': 20, 'random_forest__min_samples_leaf': 4, 'random_forest__min_samples_split': 5, 'random_forest__n_estimators': 200}\n",
            "Mean Test Score: -0.41803029051964324, Parameters: {'random_forest__max_depth': 20, 'random_forest__min_samples_leaf': 4, 'random_forest__min_samples_split': 5, 'random_forest__n_estimators': 300}\n",
            "Mean Test Score: -0.42382619226969676, Parameters: {'random_forest__max_depth': 20, 'random_forest__min_samples_leaf': 4, 'random_forest__min_samples_split': 10, 'random_forest__n_estimators': 100}\n",
            "Mean Test Score: -0.42162362806607395, Parameters: {'random_forest__max_depth': 20, 'random_forest__min_samples_leaf': 4, 'random_forest__min_samples_split': 10, 'random_forest__n_estimators': 200}\n",
            "Mean Test Score: -0.4212316865139443, Parameters: {'random_forest__max_depth': 20, 'random_forest__min_samples_leaf': 4, 'random_forest__min_samples_split': 10, 'random_forest__n_estimators': 300}\n",
            "Mean Test Score: -0.4042683951980851, Parameters: {'random_forest__max_depth': 30, 'random_forest__min_samples_leaf': 1, 'random_forest__min_samples_split': 2, 'random_forest__n_estimators': 100}\n",
            "Mean Test Score: -0.40140161827301, Parameters: {'random_forest__max_depth': 30, 'random_forest__min_samples_leaf': 1, 'random_forest__min_samples_split': 2, 'random_forest__n_estimators': 200}\n",
            "Mean Test Score: -0.40037984865537635, Parameters: {'random_forest__max_depth': 30, 'random_forest__min_samples_leaf': 1, 'random_forest__min_samples_split': 2, 'random_forest__n_estimators': 300}\n",
            "Mean Test Score: -0.4081948992183116, Parameters: {'random_forest__max_depth': 30, 'random_forest__min_samples_leaf': 1, 'random_forest__min_samples_split': 5, 'random_forest__n_estimators': 100}\n",
            "Mean Test Score: -0.40569331557012295, Parameters: {'random_forest__max_depth': 30, 'random_forest__min_samples_leaf': 1, 'random_forest__min_samples_split': 5, 'random_forest__n_estimators': 200}\n",
            "Mean Test Score: -0.40450453914650764, Parameters: {'random_forest__max_depth': 30, 'random_forest__min_samples_leaf': 1, 'random_forest__min_samples_split': 5, 'random_forest__n_estimators': 300}\n",
            "Mean Test Score: -0.4167193335777388, Parameters: {'random_forest__max_depth': 30, 'random_forest__min_samples_leaf': 1, 'random_forest__min_samples_split': 10, 'random_forest__n_estimators': 100}\n",
            "Mean Test Score: -0.41478395219513153, Parameters: {'random_forest__max_depth': 30, 'random_forest__min_samples_leaf': 1, 'random_forest__min_samples_split': 10, 'random_forest__n_estimators': 200}\n",
            "Mean Test Score: -0.41377108274472213, Parameters: {'random_forest__max_depth': 30, 'random_forest__min_samples_leaf': 1, 'random_forest__min_samples_split': 10, 'random_forest__n_estimators': 300}\n",
            "Mean Test Score: -0.40778268171121523, Parameters: {'random_forest__max_depth': 30, 'random_forest__min_samples_leaf': 2, 'random_forest__min_samples_split': 2, 'random_forest__n_estimators': 100}\n",
            "Mean Test Score: -0.40551471306480086, Parameters: {'random_forest__max_depth': 30, 'random_forest__min_samples_leaf': 2, 'random_forest__min_samples_split': 2, 'random_forest__n_estimators': 200}\n",
            "Mean Test Score: -0.40456878665312307, Parameters: {'random_forest__max_depth': 30, 'random_forest__min_samples_leaf': 2, 'random_forest__min_samples_split': 2, 'random_forest__n_estimators': 300}\n",
            "Mean Test Score: -0.41010371672070534, Parameters: {'random_forest__max_depth': 30, 'random_forest__min_samples_leaf': 2, 'random_forest__min_samples_split': 5, 'random_forest__n_estimators': 100}\n",
            "Mean Test Score: -0.4076287867589935, Parameters: {'random_forest__max_depth': 30, 'random_forest__min_samples_leaf': 2, 'random_forest__min_samples_split': 5, 'random_forest__n_estimators': 200}\n",
            "Mean Test Score: -0.4065368479566149, Parameters: {'random_forest__max_depth': 30, 'random_forest__min_samples_leaf': 2, 'random_forest__min_samples_split': 5, 'random_forest__n_estimators': 300}\n",
            "Mean Test Score: -0.4191016185151595, Parameters: {'random_forest__max_depth': 30, 'random_forest__min_samples_leaf': 2, 'random_forest__min_samples_split': 10, 'random_forest__n_estimators': 100}\n",
            "Mean Test Score: -0.417022381818896, Parameters: {'random_forest__max_depth': 30, 'random_forest__min_samples_leaf': 2, 'random_forest__min_samples_split': 10, 'random_forest__n_estimators': 200}\n",
            "Mean Test Score: -0.41619855356677427, Parameters: {'random_forest__max_depth': 30, 'random_forest__min_samples_leaf': 2, 'random_forest__min_samples_split': 10, 'random_forest__n_estimators': 300}\n",
            "Mean Test Score: -0.42080651284851145, Parameters: {'random_forest__max_depth': 30, 'random_forest__min_samples_leaf': 4, 'random_forest__min_samples_split': 2, 'random_forest__n_estimators': 100}\n",
            "Mean Test Score: -0.41831784485406515, Parameters: {'random_forest__max_depth': 30, 'random_forest__min_samples_leaf': 4, 'random_forest__min_samples_split': 2, 'random_forest__n_estimators': 200}\n",
            "Mean Test Score: -0.4178534561107236, Parameters: {'random_forest__max_depth': 30, 'random_forest__min_samples_leaf': 4, 'random_forest__min_samples_split': 2, 'random_forest__n_estimators': 300}\n",
            "Mean Test Score: -0.42080651284851145, Parameters: {'random_forest__max_depth': 30, 'random_forest__min_samples_leaf': 4, 'random_forest__min_samples_split': 5, 'random_forest__n_estimators': 100}\n",
            "Mean Test Score: -0.41831784485406515, Parameters: {'random_forest__max_depth': 30, 'random_forest__min_samples_leaf': 4, 'random_forest__min_samples_split': 5, 'random_forest__n_estimators': 200}\n",
            "Mean Test Score: -0.4178534561107236, Parameters: {'random_forest__max_depth': 30, 'random_forest__min_samples_leaf': 4, 'random_forest__min_samples_split': 5, 'random_forest__n_estimators': 300}\n",
            "Mean Test Score: -0.42385384302519535, Parameters: {'random_forest__max_depth': 30, 'random_forest__min_samples_leaf': 4, 'random_forest__min_samples_split': 10, 'random_forest__n_estimators': 100}\n",
            "Mean Test Score: -0.4216214118895577, Parameters: {'random_forest__max_depth': 30, 'random_forest__min_samples_leaf': 4, 'random_forest__min_samples_split': 10, 'random_forest__n_estimators': 200}\n",
            "Mean Test Score: -0.42120388046684487, Parameters: {'random_forest__max_depth': 30, 'random_forest__min_samples_leaf': 4, 'random_forest__min_samples_split': 10, 'random_forest__n_estimators': 300}\n"
          ]
        }
      ]
    },
    {
      "cell_type": "code",
      "source": [
        "# Evaluate each model on the test set\n",
        "for model_name, model in best_models.items():\n",
        "    y_pred = model.predict(X_test)\n",
        "    mse = mean_squared_error(y_test, y_pred)\n",
        "    r2 = r2_score(y_test, y_pred)\n",
        "    mad = mean_absolute_error(y_test, y_pred)\n",
        "    print(f'\\nResults for {model_name}:')\n",
        "    print(f'Mean Squared Error (MSE): {mse}')\n",
        "    print(f'R-squared (R2): {r2}')\n",
        "    print(f'Mean Absolute Deviation (MAD): {mad}')"
      ],
      "metadata": {
        "colab": {
          "base_uri": "https://localhost:8080/"
        },
        "id": "MhvLE1sYn9Jy",
        "outputId": "345133bb-ab4c-4da3-e69c-52fcd9a48a80"
      },
      "execution_count": null,
      "outputs": [
        {
          "output_type": "stream",
          "name": "stdout",
          "text": [
            "\n",
            "Results for svr:\n",
            "Mean Squared Error (MSE): 0.42903900015125707\n",
            "R-squared (R2): 0.4119853412434167\n",
            "Mean Absolute Deviation (MAD): 0.4700591875420126\n",
            "\n",
            "Results for linear_regression:\n",
            "Mean Squared Error (MSE): 0.5276383278265474\n",
            "R-squared (R2): 0.2768511226847906\n",
            "Mean Absolute Deviation (MAD): 0.5620633496708347\n",
            "\n",
            "Results for ridge:\n",
            "Mean Squared Error (MSE): 0.5274570068752918\n",
            "R-squared (R2): 0.27709963011008376\n",
            "Mean Absolute Deviation (MAD): 0.5620497210177962\n",
            "\n",
            "Results for random_forest:\n",
            "Mean Squared Error (MSE): 0.3621349013029909\n",
            "R-squared (R2): 0.5036800143146538\n",
            "Mean Absolute Deviation (MAD): 0.43520186385207005\n"
          ]
        }
      ]
    },
    {
      "cell_type": "markdown",
      "source": [
        "**Analysis of the Results**\n",
        "\n",
        "The following are the results of four different regression models: Support Vector Regression (SVR), Linear Regression, Ridge Regression, and Random Forest Regression. The results are based on three key metrics: Mean Squared Error (MSE), R-squared (R²), and Mean Absolute Deviation (MAD).\n",
        "\n",
        "1. Mean Squared Error (MSE):\n",
        "Lower MSE values indicate better performance. Random Forest has the lowest MSE (0.3621), suggesting it has the best predictive accuracy among the models. SVR follows with an MSE of 0.4290, while Linear Regression and Ridge Regression have similar and higher MSE values around 0.5275.\n",
        "\n",
        "2. R-squared (R²):\n",
        "R² measures the proportion of variance in the dependent variable that is predictable from the independent variables. Higher R² values indicate better model performance. Random Forest has the highest R² (0.5037), indicating it explains about 50.37% of the variance in the data. SVR is next with an R² of 0.4120. Linear Regression and Ridge Regression have similar and lower R² values around 0.277, indicating they explain less of the variance.\n",
        "\n",
        "3. Mean Absolute Deviation (MAD):\n",
        "Lower MAD values indicate better performance as they represent the average absolute difference between predicted and actual values. Random Forest again performs the best with the lowest MAD (0.4352). SVR follows with a MAD of 0.4701. Linear Regression and Ridge Regression have similar and higher MAD values around 0.562.\n",
        "\n",
        "Overall Analysis\n",
        "Best Model: Random Forest Regression consistently outperforms the other models across all three metrics (MSE, R², and MAD), making it the best model among the four.\n",
        "\n",
        "Second Best: SVR is the second-best model, with better performance than Linear and Ridge Regression but not as good as Random Forest.\n",
        "Similar Performance: Linear Regression and Ridge Regression show very similar performance across all metrics, indicating that the regularization in Ridge Regression did not significantly improve the model over standard Linear Regression in this case.\n",
        "\n",
        "Conclusion:\n",
        "Based on the provided metrics, Random Forest Regression is the most effective model for this dataset, followed by SVR. Linear Regression and Ridge Regression perform similarly and are less effective compared to the other two models."
      ],
      "metadata": {
        "id": "W9qd7OLKDCoN"
      }
    }
  ]
}